{
 "cells": [
  {
   "cell_type": "markdown",
   "metadata": {},
   "source": [
    "## Object"
   ]
  },
  {
   "cell_type": "markdown",
   "metadata": {},
   "source": [
    "$$ J = \\sum_{i, j=1}^{V}f(X_{ij})(Wi^{T}  Wj + b_{j} + b_{i} - log(X_{ij}))^{2} $$"
   ]
  },
  {
   "cell_type": "code",
   "execution_count": 21,
   "metadata": {},
   "outputs": [],
   "source": [
    "from __future__ import division\n",
    "from collections import defaultdict, Counter\n",
    "\n",
    "\n",
    "import os\n",
    "import tensorflow as tf\n",
    "from random import shuffle\n",
    "import jieba"
   ]
  },
  {
   "cell_type": "code",
   "execution_count": 304,
   "metadata": {},
   "outputs": [],
   "source": [
    "corpus = \"\"\"\n",
    "我喜欢吃苹果，也喜欢跑步。\n",
    "我喜欢吃香蕉，也喜欢散步。\n",
    "他喜欢吃苹果，也喜欢跑步。\n",
    "他喜欢吃香蕉，也喜欢散步。\n",
    "\"\"\""
   ]
  },
  {
   "cell_type": "code",
   "execution_count": 305,
   "metadata": {},
   "outputs": [],
   "source": [
    "class NotFitToCorpusError(Exception):\n",
    "    pass"
   ]
  },
  {
   "cell_type": "code",
   "execution_count": 306,
   "metadata": {},
   "outputs": [],
   "source": [
    "class Glove(object):\n",
    "    def __init__(self, window_size,max_vocab_size,min_cooccurrence, embedding_size, \n",
    "                 coocurrence_max=100, alpha=0.75, batch_size=10, learning_rate=0.1):\n",
    "        if type(window_size) == tuple:\n",
    "            self.left_size, self.right_size = window_size\n",
    "        else:\n",
    "            self.left_size = self.right_size = window_size\n",
    "        \n",
    "        self.max_vocab_size = max_vocab_size\n",
    "        self.min_cooccurrence = min_cooccurrence\n",
    "        self.embedding_size = embedding_size\n",
    "        self.coocurrence_max = coocurrence_max\n",
    "        self.alpha = alpha\n",
    "        self.batch_size = batch_size\n",
    "        self.__embedding = None\n",
    "        self.__cooccurrence_matrix = None\n",
    "        self.learning_rate = learning_rate\n",
    "        \n",
    "    def _window(self, region, start, end):\n",
    "        '''\n",
    "        return list of words from start index to end index of region\n",
    "        '''\n",
    "        last_index = len(region) + 1\n",
    "        return region[max(0, start): min(end, last_index) + 1]\n",
    "    \n",
    "    def _context_window(self, region):\n",
    "        for i, word in enumerate(region):\n",
    "            start = i - self.left_size\n",
    "            end = i + self.right_size\n",
    "            left_context = self._window(region, start, i-1)\n",
    "            right_context = self._window(region, i+1, end)\n",
    "            yield (left_context, word, right_context)\n",
    "    \n",
    "    def fit_corpus(self, corpus):\n",
    "        self._fit_corpus(corpus, self.max_vocab_size, self.min_cooccurrence)\n",
    "        self.build_model()\n",
    "    \n",
    "    def _fit_corpus(self, corpus, vocab_size, min_count):\n",
    "        words = Counter()\n",
    "        coocurrence_counts = defaultdict(float)\n",
    "        for region in corpus:\n",
    "            words.update(region)\n",
    "            for left_context, word, right_context in self._context_window(region):\n",
    "                # add 1 / distance to word pair\n",
    "                for i, c in enumerate(left_context[::-1]):\n",
    "                    coocurrence_counts[(word, c)] += 1 / (i + 1)\n",
    "                for i, c in enumerate(right_context):\n",
    "                    coocurrence_counts[(word, c)] += 1 / (i + 1)\n",
    "        \n",
    "        self.__words = [word for word, count in words.most_common(vocab_size) if count >= min_count]\n",
    "        self.__word_2_id = {w: _id for _id, w in enumerate(self.__words)}\n",
    "        self.__cooccurrence_matrix = {(self.__word_2_id[word_pair[0]], self.__word_2_id[word_pair[1]]): count\n",
    "                                     for word_pair, count in coocurrence_counts.items()\n",
    "                                     if word_pair[0] in self.__words and word_pair[1] in self.__words}\n",
    "        \n",
    "        \n",
    "    def build_model(self):\n",
    "        self.__graph = tf.Graph()\n",
    "        with self.__graph.as_default():\n",
    "            count_max = tf.constant([self.coocurrence_max], dtype=tf.float32, name='coocurrence_max')\n",
    "            alpha = tf.constant([self.alpha], dtype=tf.float32, name='alpha')\n",
    "\n",
    "            self.__focus_input = tf.placeholder(tf.int32, shape=[self.batch_size], name='focus_words')\n",
    "            self.__context_input = tf.placeholder(tf.int32, shape=[self.batch_size], name='context_words')\n",
    "            self.__cooccurrance_count = tf.placeholder(tf.float32, shape=[self.batch_size], name='cooccurrance_count')\n",
    "\n",
    "            focus_embeddings = tf.Variable(tf.random_uniform([self.vocab_size, self.embedding_size], 1.0, -1.0, name='focus_embeddings'))\n",
    "            context_embeddings = tf.Variable(tf.random_uniform([self.vocab_size, self.embedding_size], 1.0, -1.0, name='context_embeddings'))\n",
    "            focus_bias = tf.Variable(tf.random_uniform([self.vocab_size], 1.0, -1.0, name='focus_bias'))\n",
    "            context_bias = tf.Variable(tf.random_uniform([self.vocab_size], 1.0, -1.0, name='context_bias'))\n",
    "\n",
    "            focus_emb = tf.nn.embedding_lookup([focus_embeddings], self.__focus_input)\n",
    "            context_emb = tf.nn.embedding_lookup([context_embeddings], self.__context_input)\n",
    "            focus_b = tf.nn.embedding_lookup([focus_bias], self.__focus_input)\n",
    "            context_b = tf.nn.embedding_lookup([context_bias], self.__context_input)\n",
    "\n",
    "            weighting_factor = tf.minimum(1.0, tf.pow(tf.div(self.__cooccurrance_count, count_max), alpha))\n",
    "\n",
    "            embedding_product = tf.reduce_sum(tf.multiply(focus_emb, context_emb), 1)\n",
    "            log_cooccurrence = tf.log(tf.to_float(self.__cooccurrance_count))\n",
    "\n",
    "            distance_exp = tf.square(tf.add_n([embedding_product, focus_b, context_b, tf.negative(log_cooccurrence)]))\n",
    "            loss_one = tf.multiply(weighting_factor, distance_exp)\n",
    "\n",
    "            self.__total_loss = tf.reduce_sum(loss_one)\n",
    "#             tf.summary.scalar('glove_loss', self.__total_loss)\n",
    "            print(self.__total_loss)\n",
    "            self.__optimizer = tf.train.AdagradOptimizer(self.learning_rate).minimize(self.__total_loss)\n",
    "#             tf.summary = tf.summary.merge_all()\n",
    "            self.combine_embedding = tf.add(focus_embeddings, context_embeddings, name='combine_embedding')\n",
    "\n",
    "    def train(self, epochs):\n",
    "        batches = self.__prepare_batches()\n",
    "        total_step = 0\n",
    "        \n",
    "        with tf.Session(graph=self.__graph) as sess:\n",
    "            tf.global_variables_initializer().run()\n",
    "            \n",
    "            for epoch in range(epochs):\n",
    "                shuffle(batches)\n",
    "                for batch_data in batches:\n",
    "                    i_indexs, j_indexs, counts = batch_data\n",
    "                    if len(counts) != self.batch_size:\n",
    "                        continue\n",
    "                    \n",
    "                    feed_dict = {\n",
    "                        self.__focus_input: i_indexs,\n",
    "                        self.__context_input: j_indexs,\n",
    "                        self.__cooccurrance_count: counts\n",
    "                    }\n",
    "                    sess.run([self.__optimizer, self.__total_loss], feed_dict=feed_dict)\n",
    "                    total_step += 1\n",
    "                \n",
    "            self.__embedding = self.combine_embedding.eval()\n",
    "     \n",
    "    @property\n",
    "    def words(self):\n",
    "        if self.__words is None:\n",
    "            raise NotFitToCorpusError('need to fit copus before start model')\n",
    "        return self.__words\n",
    "    \n",
    "    @property\n",
    "    def vocab_size(self):\n",
    "        return len(self.words)\n",
    "    \n",
    "    @property\n",
    "    def embeddings(self):\n",
    "        if self.__embedding is None:\n",
    "            raise NotFitToCorpusError('not fit')\n",
    "        \n",
    "        return self.__embedding\n",
    "    \n",
    "    def generate_tsne(self, path=None, size=(100, 100), word_count=1000, embeddings=None):\n",
    "        if embeddings is None:\n",
    "            embeddings = self.embeddings\n",
    "        from sklearn.manifold import TSNE\n",
    "        tsne = TSNE(perplexity=30, n_components=2, init='pca', n_iter=5000)\n",
    "        low_dim_embs = tsne.fit_transform(embeddings[:word_count, :])\n",
    "        labels = self.words[:word_count]\n",
    "        return _plot_with_labels(low_dim_embs, labels, path, size)\n",
    "    \n",
    "    def __prepare_batches(self):\n",
    "        if self.__cooccurrence_matrix is None:\n",
    "            raise NotFitToCorpusError(\n",
    "                \"Need to fit model to corpus before preparing training batches.\")\n",
    "        cooccurrences = [(word_ids[0], word_ids[1], count)\n",
    "                         for word_ids, count in self.__cooccurrence_matrix.items()]\n",
    "        i_indices, j_indices, counts = zip(*cooccurrences)\n",
    "        return list(_batchify(self.batch_size, i_indices, j_indices, counts))\n",
    "    \n",
    "def _batchify(batch_size, *sequences):\n",
    "    for i in range(0, len(sequences[0]), batch_size):\n",
    "        yield tuple(sequence[i:i+batch_size] for sequence in sequences)\n",
    "\n",
    "    \n",
    "    \n"
   ]
  },
  {
   "cell_type": "code",
   "execution_count": 307,
   "metadata": {},
   "outputs": [],
   "source": [
    "#显示中文\n",
    "import matplotlib as mlt\n",
    "\n",
    "# [f.name for f in mlt.font_manager.fontManager.ttflist]"
   ]
  },
  {
   "cell_type": "code",
   "execution_count": 308,
   "metadata": {},
   "outputs": [],
   "source": [
    "def _plot_with_labels(low_dim_embs, labels, path, size):\n",
    "    import matplotlib.pyplot as plt\n",
    "    assert low_dim_embs.shape[0] >= len(labels), \"More labels than embeddings\"\n",
    "    figure = plt.figure(figsize=size)  # in inches\n",
    "    \n",
    "    plt.rcParams['font.sans-serif'] = ['STFangsong']\n",
    "    for i, label in enumerate(labels):\n",
    "        x, y = low_dim_embs[i, :]\n",
    "        plt.scatter(x, y)\n",
    "        plt.annotate(label, xy=(x, y), xytext=(5, 2), textcoords='offset points', ha='right',\n",
    "                     va='bottom')\n",
    "    if path is not None:\n",
    "        figure.savefig(path)\n",
    "        plt.close(figure)"
   ]
  },
  {
   "cell_type": "code",
   "execution_count": 309,
   "metadata": {},
   "outputs": [],
   "source": [
    "corpus_list = corpus.split()"
   ]
  },
  {
   "cell_type": "code",
   "execution_count": 310,
   "metadata": {},
   "outputs": [],
   "source": [
    "def split_words(cor):\n",
    "    stop_words = [',', '.', '，', '。', ':', '：', '/', '；']\n",
    "    cut_c = list(jieba.cut(cor))\n",
    "    return [c for c in cut_c if c not in stop_words]"
   ]
  },
  {
   "cell_type": "code",
   "execution_count": 311,
   "metadata": {},
   "outputs": [],
   "source": [
    "token = [split_words(cor) for cor in corpus_list]"
   ]
  },
  {
   "cell_type": "code",
   "execution_count": 312,
   "metadata": {},
   "outputs": [],
   "source": [
    "glove = Glove(window_size=5,max_vocab_size=100, min_cooccurrence = 1, embedding_size=10)"
   ]
  },
  {
   "cell_type": "code",
   "execution_count": 313,
   "metadata": {},
   "outputs": [
    {
     "name": "stdout",
     "output_type": "stream",
     "text": [
      "Tensor(\"Sum_1:0\", shape=(), dtype=float32)\n"
     ]
    }
   ],
   "source": [
    "glove.fit_corpus(token)"
   ]
  },
  {
   "cell_type": "code",
   "execution_count": 314,
   "metadata": {},
   "outputs": [
    {
     "data": {
      "text/plain": [
       "['喜欢', '吃', '也', '我', '苹果', '跑步', '香蕉', '散步', '他']"
      ]
     },
     "execution_count": 314,
     "metadata": {},
     "output_type": "execute_result"
    }
   ],
   "source": [
    "glove.words"
   ]
  },
  {
   "cell_type": "code",
   "execution_count": 315,
   "metadata": {},
   "outputs": [],
   "source": [
    "glove.train(100)"
   ]
  },
  {
   "cell_type": "code",
   "execution_count": 316,
   "metadata": {},
   "outputs": [
    {
     "data": {
      "text/plain": [
       "array([[ 0.52527547, -0.75928116,  0.61695457, -0.22688322,  0.56773937,\n",
       "         0.7498862 ,  0.9985434 , -0.754923  ,  0.3575942 , -0.6042925 ],\n",
       "       [ 0.22061568, -1.4303073 , -0.5390147 ,  0.03642514, -1.2750477 ,\n",
       "         0.45894784,  2.1594446 , -0.10673267,  1.2786946 ,  0.25862646],\n",
       "       [ 0.14628899, -0.5754013 ,  0.7087447 ,  0.5578232 , -1.4579823 ,\n",
       "         0.37938982, -0.43644118, -0.6563008 ,  0.865909  , -0.42368427],\n",
       "       [-1.4785494 , -1.0902619 , -0.35460117,  0.18694541,  0.67853826,\n",
       "         0.8275889 ,  0.99403435, -0.7602881 , -1.194007  ,  0.49118927],\n",
       "       [ 0.67107975, -1.2055147 ,  1.2255635 ,  0.04910412, -1.0699718 ,\n",
       "        -1.9251139 ,  1.8923182 ,  0.5020014 ,  0.25295788, -0.74998266],\n",
       "       [-0.899381  ,  1.3956175 ,  0.9632489 , -0.8570343 ,  0.10158437,\n",
       "        -0.941746  , -0.33938962, -0.833922  ,  1.2539747 ,  0.9579678 ],\n",
       "       [-0.51349235,  0.274795  , -0.3832942 ,  0.49712586,  0.10508215,\n",
       "         0.32138395,  0.13877425,  0.36840427,  1.7679236 ,  1.2080827 ],\n",
       "       [-1.0136735 ,  0.27664205,  0.0491707 , -0.85531354,  0.4341358 ,\n",
       "        -0.80163884,  0.15118092, -1.1873748 , -1.2554173 ,  1.2651265 ],\n",
       "       [ 0.20343946,  0.89049757, -0.5299467 ,  0.9820477 ,  1.8383219 ,\n",
       "        -0.12700343, -0.6417648 ,  0.640035  , -0.2959784 , -1.0761123 ]],\n",
       "      dtype=float32)"
      ]
     },
     "execution_count": 316,
     "metadata": {},
     "output_type": "execute_result"
    }
   ],
   "source": [
    "glove.embeddings"
   ]
  },
  {
   "cell_type": "code",
   "execution_count": 317,
   "metadata": {},
   "outputs": [
    {
     "data": {
      "image/png": "[encoded data removed]",
      "text/plain": [
       "<Figure size 720x720 with 1 Axes>"
      ]
     },
     "metadata": {
      "needs_background": "light"
     },
     "output_type": "display_data"
    }
   ],
   "source": [
    "%matplotlib inline\n",
    "glove.generate_tsne(size=(10,10))"
   ]
  },
  {
   "cell_type": "code",
   "execution_count": null,
   "metadata": {},
   "outputs": [],
   "source": []
  }
 ],
 "metadata": {
  "kernelspec": {
   "display_name": "Python 3",
   "language": "python",
   "name": "python3"
  },
  "language_info": {
   "codemirror_mode": {
    "name": "ipython",
    "version": 3
   },
   "file_extension": ".py",
   "mimetype": "text/x-python",
   "name": "python",
   "nbconvert_exporter": "python",
   "pygments_lexer": "ipython3",
   "version": "3.6.8"
  }
 },
 "nbformat": 4,
 "nbformat_minor": 2
}
